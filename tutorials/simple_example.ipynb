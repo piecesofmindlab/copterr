{
 "cells": [
  {
   "cell_type": "markdown",
   "metadata": {},
   "source": [
    "# Simple Example"
   ]
  },
  {
   "cell_type": "markdown",
   "metadata": {},
   "source": [
    "First, let's make some basic demo data."
   ]
  },
  {
   "cell_type": "code",
   "execution_count": 1,
   "metadata": {},
   "outputs": [],
   "source": [
    "import numpy as np\n",
    "from tqdm.notebook import tqdm\n",
    "np.random.seed(0)\n",
    "\n",
    "def create_fake_data(n_timepoints_train, n_timepoints_test, n_features, n_targets, noise_amounts):\n",
    "    # Create features\n",
    "    X_train = np.random.rand(n_timepoints_train, n_features)\n",
    "    X_test = np.random.rand(n_timepoints_test, n_features)\n",
    "    true_weights = np.random.randn(n_features, n_targets)\n",
    "\n",
    "    # Create targets\n",
    "    Y_train = X_train @ true_weights\n",
    "    Y_test = X_test @ true_weights\n",
    "\n",
    "    # Add different amounts of noise\n",
    "    for target_i in range(n_targets):\n",
    "        Y_train[:,target_i] += noise_amounts[target_i]  * np.random.randn(n_timepoints_train)\n",
    "        Y_test[:,target_i] += noise_amounts[target_i] * np.random.randn(n_timepoints_test)\n",
    "    \n",
    "    return X_train, X_test, Y_train, Y_test\n",
    "\n",
    "\n",
    "n_timepoints_train, n_timepoints_test = 500, 100\n",
    "n_features, n_targets = 10, 3\n",
    "noise_amounts = [1,5,15]\n",
    "\n",
    "X_train, X_test, Y_train, Y_test = create_fake_data(\n",
    "    n_timepoints_train=n_timepoints_train,\n",
    "    n_timepoints_test=n_timepoints_test,\n",
    "    n_features=n_features,\n",
    "    n_targets=n_targets,\n",
    "    noise_amounts=noise_amounts,\n",
    "    )"
   ]
  },
  {
   "cell_type": "markdown",
   "metadata": {},
   "source": [
    "COPTeRR computes permutation tests on already-fit ridge regression models. You can perform this initial fit using a variety of packages, but we recommend Himalaya."
   ]
  },
  {
   "cell_type": "code",
   "execution_count": 2,
   "metadata": {},
   "outputs": [
    {
     "name": "stdout",
     "output_type": "stream",
     "text": [
      "R2 Score Per Target:  [ 0.50214792  0.0137505  -0.0056149 ]\n"
     ]
    }
   ],
   "source": [
    "from himalaya.ridge import RidgeCV\n",
    "\n",
    "model = RidgeCV(alphas=np.logspace(-2, 5, 8))\n",
    "model.fit(X_train, Y_train)\n",
    "himalaya_scores = model.score(X_test, Y_test)\n",
    "print(\"R2 Score Per Target: \", himalaya_scores)"
   ]
  },
  {
   "cell_type": "markdown",
   "metadata": {},
   "source": [
    "This performance seems pretty good, but how can we be sure that it's significant? We can determine this by generating a null distribution of chance values using COPTeRR!"
   ]
  },
  {
   "cell_type": "code",
   "execution_count": 3,
   "metadata": {},
   "outputs": [
    {
     "name": "stderr",
     "output_type": "stream",
     "text": [
      "Computing Initial SVDs: 100%|██████████| 3/3 [00:00<00:00, 2101.00it/s]"
     ]
    },
    {
     "name": "stdout",
     "output_type": "stream",
     "text": [
      "Weights Equivalent: True\n",
      "R2 Scores Equivalent: True\n"
     ]
    },
    {
     "name": "stderr",
     "output_type": "stream",
     "text": [
      "\n"
     ]
    }
   ],
   "source": [
    "from copterr import PermuteWeights\n",
    "\n",
    "permuter = PermuteWeights(X_train, Y_train, model.best_alphas_)\n",
    "permuter.prepare()\n",
    "\n",
    "himalaya_weights = model.coef_\n",
    "copterr_weights = permuter.fit_true_weights()\n",
    "print('Weights Equivalent:', np.allclose(himalaya_weights, copterr_weights, atol=1e-5))\n",
    "\n",
    "copterr_scores = permuter.score(X_test, Y_test).numpy()\n",
    "print('R2 Scores Equivalent:', np.allclose(himalaya_scores, copterr_scores, atol=1e-5))"
   ]
  },
  {
   "cell_type": "markdown",
   "metadata": {},
   "source": [
    "Now, let's perform a bunch of permutations, and compute p-values for the model's performance."
   ]
  },
  {
   "cell_type": "code",
   "execution_count": 4,
   "metadata": {},
   "outputs": [
    {
     "data": {
      "application/vnd.jupyter.widget-view+json": {
       "model_id": "e9c0d8cc7ab04c2499d7f52b9002b2fa",
       "version_major": 2,
       "version_minor": 0
      },
      "text/plain": [
       "  0%|          | 0/10000 [00:00<?, ?it/s]"
      ]
     },
     "metadata": {},
     "output_type": "display_data"
    },
    {
     "name": "stdout",
     "output_type": "stream",
     "text": [
      "Target 0 R2: 0.502      P-Value: 0.00\n",
      "Target 1 R2: 0.014      P-Value: 0.01\n",
      "Target 2 R2: -0.006      P-Value: 0.11\n"
     ]
    }
   ],
   "source": [
    "from copterr.utils import compute_p_values\n",
    "\n",
    "perm_performance = []\n",
    "for permutation in tqdm(range(10000), dynamic_ncols=True):\n",
    "    perm_weights = permuter.fit_permutation(permutation=True)\n",
    "    perm_r2 = permuter.score(X_test, Y_test, permutation=True)\n",
    "    perm_performance.append(perm_r2.numpy())\n",
    "\n",
    "p_values = compute_p_values(copterr_scores, perm_performance)\n",
    "\n",
    "for target_i in range(n_targets):\n",
    "    print(f\"Target {target_i} R2:\", \"%0.3f\" % copterr_scores[target_i], \"    \", \"P-Value:\", \"%0.2f\" % p_values[target_i])"
   ]
  },
  {
   "cell_type": "markdown",
   "metadata": {},
   "source": [
    "Feel free to vary the noise_amount variable and check out the effects--lower amounts of noise should yield smaller p-values for our model's performance. \n",
    "\n",
    "Also note that model R2 is just a single example--anything you compute from your model's weights can be tested in this manner!"
   ]
  }
 ],
 "metadata": {
  "kernelspec": {
   "display_name": "pomlab",
   "language": "python",
   "name": "python3"
  },
  "language_info": {
   "codemirror_mode": {
    "name": "ipython",
    "version": 3
   },
   "file_extension": ".py",
   "mimetype": "text/x-python",
   "name": "python",
   "nbconvert_exporter": "python",
   "pygments_lexer": "ipython3",
   "version": "3.8.18"
  }
 },
 "nbformat": 4,
 "nbformat_minor": 2
}
