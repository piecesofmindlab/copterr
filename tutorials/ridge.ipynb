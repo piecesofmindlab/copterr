{
 "cells": [
  {
   "cell_type": "markdown",
   "metadata": {},
   "source": [
    "# Ridge"
   ]
  },
  {
   "cell_type": "markdown",
   "metadata": {},
   "source": [
    "First, let's make some basic demo data."
   ]
  },
  {
   "cell_type": "code",
   "execution_count": 1,
   "metadata": {},
   "outputs": [
    {
     "name": "stderr",
     "output_type": "stream",
     "text": [
      "/home/matthew/miniconda3/envs/pomlab/lib/python3.8/site-packages/tqdm/auto.py:21: TqdmWarning: IProgress not found. Please update jupyter and ipywidgets. See https://ipywidgets.readthedocs.io/en/stable/user_install.html\n",
      "  from .autonotebook import tqdm as notebook_tqdm\n"
     ]
    }
   ],
   "source": [
    "import numpy as np\n",
    "import torch\n",
    "from tqdm import tqdm\n",
    "\n",
    "n_timepoints_train, n_timepoints_test = 100, 50\n",
    "n_features, n_targets = 25, 5\n",
    "noise_amount = 1.5\n",
    "\n",
    "X_train = np.random.rand(n_timepoints_train, n_features)\n",
    "X_test = np.random.rand(n_timepoints_test, n_features)\n",
    "true_weights = np.random.randn(n_features, n_targets)\n",
    "Y_train = X_train @ true_weights + noise_amount * np.random.randn(n_timepoints_train, n_targets)\n",
    "Y_test = X_test @ true_weights + noise_amount * np.random.randn(n_timepoints_test, n_targets)"
   ]
  },
  {
   "cell_type": "markdown",
   "metadata": {},
   "source": [
    "COPTeRR computes permutation tests on already-fit ridge regression models. You can perform this initial fit using a variety of packages, but we recommend himalaya."
   ]
  },
  {
   "cell_type": "code",
   "execution_count": null,
   "metadata": {},
   "outputs": [],
   "source": [
    "from himalaya.ridge import RidgeCV\n",
    "\n",
    "model = RidgeCV(alphas=np.logspace(-2, 5, 8))\n",
    "model.fit(X_train, Y_train)\n",
    "model_performance = model.score(X_test, Y_test)\n",
    "print(\"R2 Score Per Target: \", model_performance)"
   ]
  },
  {
   "cell_type": "markdown",
   "metadata": {},
   "source": [
    "This performance seems pretty good, but how can we be sure that it's significant? We can determine this by generating a null distribution of chance values using COPTeRR!"
   ]
  },
  {
   "cell_type": "code",
   "execution_count": null,
   "metadata": {},
   "outputs": [],
   "source": [
    "from copterr import PermuteWeights, create_permutation_idxs, column_corr_torch\n",
    "\n",
    "permuter = PermuteWeights(X_train, Y_train, model.best_alphas_)\n",
    "permuter.prepare()"
   ]
  },
  {
   "cell_type": "markdown",
   "metadata": {},
   "source": [
    "First, let's check that COPTeRR is estimating model weights the same way that himalaya is."
   ]
  },
  {
   "cell_type": "code",
   "execution_count": null,
   "metadata": {},
   "outputs": [],
   "source": [
    "himalaya_weights = model.coef_\n",
    "copterr_weights = permuter.compute_true_weights()\n",
    "print(np.allclose(himalaya_weights, copterr_weights))"
   ]
  },
  {
   "cell_type": "markdown",
   "metadata": {},
   "source": [
    "Looks good! Now, let's perform a bunch of permutations, and compute p-values for the model's performance."
   ]
  },
  {
   "cell_type": "code",
   "execution_count": null,
   "metadata": {},
   "outputs": [],
   "source": [
    "perm_indices = create_permutation_idxs(n_timepoints_train, n_permutations=10000, block_len=5)\n",
    "perm_performance = []\n",
    "for indices in tqdm(perm_indices):\n",
    "    perm_weights = permuter.permute_weights(indices)\n",
    "    perm_predictions = torch.tensor(X_test, dtype=torch.float)@perm_weights\n",
    "    perm_correlations = column_corr_torch(perm_predictions, Y_test)\n",
    "    perm_r2 = perm_correlations**2\n",
    "    perm_performance.append(perm_r2.cpu().numpy())\n",
    "\n",
    "p_values = np.mean(np.array(perm_performance) >= model_performance, axis=0)\n",
    "print(\"P-Values:\", p_values)"
   ]
  },
  {
   "cell_type": "markdown",
   "metadata": {},
   "source": [
    "Feel free to vary the noise_amount variable and check out the effects--lower amounts of noise should yield lower p-values for our model's performance. Also note that model r2 is just a single example--anything you compute from your model's weights can be tested in this manner!"
   ]
  }
 ],
 "metadata": {
  "kernelspec": {
   "display_name": "pomlab",
   "language": "python",
   "name": "python3"
  },
  "language_info": {
   "codemirror_mode": {
    "name": "ipython",
    "version": 3
   },
   "file_extension": ".py",
   "mimetype": "text/x-python",
   "name": "python",
   "nbconvert_exporter": "python",
   "pygments_lexer": "ipython3",
   "version": "3.8.18"
  }
 },
 "nbformat": 4,
 "nbformat_minor": 2
}
